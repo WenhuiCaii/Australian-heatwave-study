{
 "cells": [
  {
   "cell_type": "code",
   "execution_count": 11,
   "metadata": {},
   "outputs": [
    {
     "data": {
      "text/plain": [
       "RandomForestRegressor(bootstrap=True, ccp_alpha=0.0, criterion='mse',\n",
       "                      max_depth=None, max_features='auto', max_leaf_nodes=None,\n",
       "                      max_samples=None, min_impurity_decrease=0.0,\n",
       "                      min_impurity_split=None, min_samples_leaf=1,\n",
       "                      min_samples_split=2, min_weight_fraction_leaf=0.0,\n",
       "                      n_estimators=1000, n_jobs=None, oob_score=False,\n",
       "                      random_state=0, verbose=0, warm_start=False)"
      ]
     },
     "execution_count": 11,
     "metadata": {},
     "output_type": "execute_result"
    }
   ],
   "source": [
    "from sklearn.ensemble import RandomForestRegressor\n",
    "import shap\n",
    "import pandas as pd\n",
    "from sklearn.model_selection import train_test_split\n",
    "data = pd.read_excel('Urban.xlsx')\n",
    "x = data.iloc[:, 6: 42]\n",
    "y = data.iloc[:, 5]\n",
    "x_train, x_test, y_train, y_test = train_test_split(x, y, test_size=0.2, random_state=101)\n",
    "regr = RandomForestRegressor(n_estimators=1000, random_state=0)\n",
    "regr.fit(x_train, y_train.values.ravel())"
   ]
  },
  {
   "cell_type": "code",
   "execution_count": 12,
   "metadata": {},
   "outputs": [
    {
     "name": "stdout",
     "output_type": "stream",
     "text": [
      "Variable: O3                   Importance: 0.35\n",
      "Variable: Age 0to4             Importance: 0.31\n",
      "Variable: Non MAP              Importance: 0.06\n",
      "Variable: Distance to city     Importance: 0.04\n",
      "Variable: NO2                  Importance: 0.04\n",
      "Variable: Low education        Importance: 0.03\n",
      "Variable: Not in labour        Importance: 0.03\n",
      "Variable: Distance to healthcare Importance: 0.03\n",
      "Variable: Minority             Importance: 0.02\n",
      "Variable: CO                   Importance: 0.02\n",
      "Variable: Heatwave             Importance: 0.01\n",
      "Variable: One family           Importance: 0.01\n",
      "Variable: Low income           Importance: 0.01\n",
      "Variable: Female               Importance: 0.01\n",
      "Variable: Rented               Importance: 0.01\n",
      "Variable: Indegious            Importance: 0.01\n",
      "Variable: SO2                  Importance: 0.01\n",
      "Variable: AOD                  Importance: 0.0\n",
      "Variable: Age 65+              Importance: 0.0\n",
      "Variable: House size           Importance: 0.0\n",
      "Variable: Childcare            Importance: 0.0\n",
      "Variable: Mobile living        Importance: 0.0\n",
      "Variable: Retirement villages  Importance: 0.0\n",
      "Variable: Bad english          Importance: 0.0\n",
      "Variable: Multi family         Importance: 0.0\n",
      "Variable: Separated houses     Importance: 0.0\n",
      "Variable: Unemployed           Importance: 0.0\n",
      "Variable: No married           Importance: 0.0\n",
      "Variable: Low mortage          Importance: 0.0\n",
      "Variable: Diversity of landuse Importance: 0.0\n",
      "Variable: Divsity of housing   Importance: 0.0\n",
      "Variable: Density of commercial spots Importance: 0.0\n",
      "Variable: Density of greenspace Importance: 0.0\n",
      "Variable: Density of buildings Importance: 0.0\n",
      "Variable: Design of drinking pumps Importance: 0.0\n",
      "Variable: Design of street facilities  Importance: 0.0\n"
     ]
    }
   ],
   "source": [
    "predictions = regr.predict(x_test)\n",
    "regr.predict(x.iloc[0:1,:])\n",
    "importances = list(regr.feature_importances_)\n",
    "characteristics = x.columns\n",
    "characteristics_importances = [(characteristic, round(importance, 2)) for characteristic, importance in zip(characteristics, importances)]\n",
    "characteristics_importances = sorted(characteristics_importances, key = lambda x: x[1], reverse = True)\n",
    "[print('Variable: {:20} Importance: {}'.format(*pair)) for pair in characteristics_importances];"
   ]
  },
  {
   "cell_type": "code",
   "execution_count": 13,
   "metadata": {},
   "outputs": [
    {
     "data": {
      "text/plain": [
       "0        1.752592\n",
       "1        1.752592\n",
       "2        1.752592\n",
       "3        1.752592\n",
       "4        1.752592\n",
       "           ...   \n",
       "36548    0.000000\n",
       "36549    0.000000\n",
       "36550    0.000000\n",
       "36551    0.000000\n",
       "36552    0.000000\n",
       "Name: pulmonary, Length: 36553, dtype: float64"
      ]
     },
     "execution_count": 13,
     "metadata": {},
     "output_type": "execute_result"
    }
   ],
   "source": [
    "y"
   ]
  },
  {
   "cell_type": "code",
   "execution_count": 14,
   "metadata": {
    "scrolled": true
   },
   "outputs": [
    {
     "name": "stderr",
     "output_type": "stream",
     "text": [
      "Permutation explainer: 1829it [18:26:33, 36.30s/it]                                                                    \n"
     ]
    }
   ],
   "source": [
    "# Fits the explainer\n",
    "explainer = shap.Explainer(regr.predict, x.loc[x.Heatwave >= 35.8843])\n",
    "# Calculates the SHAP values\n",
    "shap_values = explainer(x.loc[x.Heatwave >= 35.8843])"
   ]
  },
  {
   "cell_type": "code",
   "execution_count": 10,
   "metadata": {
    "scrolled": true
   },
   "outputs": [
    {
     "data": {
      "image/png": "[encoded data removed]",
      "text/plain": [
       "<Figure size 576x468 with 1 Axes>"
      ]
     },
     "metadata": {},
     "output_type": "display_data"
    }
   ],
   "source": [
    "shap.plots.bar(shap_values, show=False)\n",
    "import matplotlib.pyplot as plt\n",
    "plt.savefig(\"asthma.jpg\")"
   ]
  },
  {
   "cell_type": "code",
   "execution_count": null,
   "metadata": {
    "collapsed": true
   },
   "outputs": [],
   "source": []
  }
 ],
 "metadata": {
  "kernelspec": {
   "display_name": "Python 3",
   "language": "python",
   "name": "python3"
  },
  "language_info": {
   "codemirror_mode": {
    "name": "ipython",
    "version": 3
   },
   "file_extension": ".py",
   "mimetype": "text/x-python",
   "name": "python",
   "nbconvert_exporter": "python",
   "pygments_lexer": "ipython3",
   "version": "3.7.7"
  }
 },
 "nbformat": 4,
 "nbformat_minor": 4
}
